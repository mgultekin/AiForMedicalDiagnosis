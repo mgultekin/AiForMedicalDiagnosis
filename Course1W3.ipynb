{
  "nbformat": 4,
  "nbformat_minor": 0,
  "metadata": {
    "colab": {
      "name": "Course1W3.ipynb",
      "provenance": [],
      "authorship_tag": "ABX9TyNmT+eKTvpBNzif8D+My7SL",
      "include_colab_link": true
    },
    "kernelspec": {
      "name": "python3",
      "display_name": "Python 3"
    },
    "language_info": {
      "name": "python"
    }
  },
  "cells": [
    {
      "cell_type": "markdown",
      "metadata": {
        "id": "view-in-github",
        "colab_type": "text"
      },
      "source": [
        "<a href=\"https://colab.research.google.com/github/mgultekin/AiForMedicalDiagnosis/blob/main/Course1W3.ipynb\" target=\"_parent\"><img src=\"https://colab.research.google.com/assets/colab-badge.svg\" alt=\"Open In Colab\"/></a>"
      ]
    },
    {
      "cell_type": "markdown",
      "metadata": {
        "id": "5WXogGnIWFyl"
      },
      "source": [
        "\n",
        "# Extract a sub-section"
      ]
    },
    {
      "cell_type": "code",
      "metadata": {
        "id": "T1v5DurHWeGR"
      },
      "source": [
        "#In this lab, i am going to extract sub-section from 1D array to learn make the same thing for 3D MRI volume"
      ],
      "execution_count": 10,
      "outputs": []
    },
    {
      "cell_type": "code",
      "metadata": {
        "id": "YUHIcHPAWB8N"
      },
      "source": [
        "import numpy as np\n",
        "import keras\n",
        "import pandas as pd"
      ],
      "execution_count": 11,
      "outputs": []
    },
    {
      "cell_type": "code",
      "metadata": {
        "colab": {
          "base_uri": "https://localhost:8080/"
        },
        "id": "H28-IT0bWb7z",
        "outputId": "7d9bdc2d-6e65-4674-bf72-6c5b13a676c1"
      },
      "source": [
        "#1D image to extract from\n",
        "image = np.array([20,21,22,23,24,25])\n",
        "image"
      ],
      "execution_count": 12,
      "outputs": [
        {
          "output_type": "execute_result",
          "data": {
            "text/plain": [
              "array([20, 21, 22, 23, 24, 25])"
            ]
          },
          "metadata": {
            "tags": []
          },
          "execution_count": 12
        }
      ]
    },
    {
      "cell_type": "code",
      "metadata": {
        "colab": {
          "base_uri": "https://localhost:8080/"
        },
        "id": "eZkwqrodXClD",
        "outputId": "27169dca-a991-4209-a01f-0029ea6a4a82"
      },
      "source": [
        "#lets see the dimensions of the image\n",
        "\n",
        "image_length = image.shape[0]\n",
        "image_length"
      ],
      "execution_count": 13,
      "outputs": [
        {
          "output_type": "execute_result",
          "data": {
            "text/plain": [
              "6"
            ]
          },
          "metadata": {
            "tags": []
          },
          "execution_count": 13
        }
      ]
    },
    {
      "cell_type": "markdown",
      "metadata": {
        "id": "D8I5K5VPX4uh"
      },
      "source": [
        "**Sub-sections**"
      ]
    },
    {
      "cell_type": "code",
      "metadata": {
        "id": "x_UCFfExXOdC"
      },
      "source": [
        "#patch size in three dimension that is the size of extracted sub-section\n",
        "patch_length = 3"
      ],
      "execution_count": 14,
      "outputs": []
    },
    {
      "cell_type": "code",
      "metadata": {
        "id": "r4_PSiYhY199"
      },
      "source": [
        "#define start index\n",
        "start_i = 0"
      ],
      "execution_count": 23,
      "outputs": []
    },
    {
      "cell_type": "code",
      "metadata": {
        "colab": {
          "base_uri": "https://localhost:8080/"
        },
        "id": "y-LmToTiZF74",
        "outputId": "df4b0625-a606-4734-cb27-e3c57c8cf0e7"
      },
      "source": [
        "end_i = start_i + patch_length\n",
        "print('end index is: ', end_i)\n",
        "\n",
        "#extract a sub-section from the image\n",
        "\n",
        "sub_section = image[start_i : end_i]\n",
        "print('Output patch length is: ', len(sub_section))\n",
        "print('Output patch array: ', sub_section)\n",
        "\n",
        "start_i += 1"
      ],
      "execution_count": 24,
      "outputs": [
        {
          "output_type": "stream",
          "text": [
            "end index is:  3\n",
            "Output patch length is:  3\n",
            "Output patch array:  [20 21 22]\n"
          ],
          "name": "stdout"
        }
      ]
    },
    {
      "cell_type": "code",
      "metadata": {
        "colab": {
          "base_uri": "https://localhost:8080/"
        },
        "id": "VfJ6DOBaqEW9",
        "outputId": "0cfd8eee-a92d-4c61-cd34-ed04f6348092"
      },
      "source": [
        "# Compute and print the largest valid value for start index\n",
        "print(image_length - patch_length)"
      ],
      "execution_count": 26,
      "outputs": [
        {
          "output_type": "stream",
          "text": [
            "3\n"
          ],
          "name": "stdout"
        }
      ]
    },
    {
      "cell_type": "code",
      "metadata": {
        "colab": {
          "base_uri": "https://localhost:8080/"
        },
        "id": "QOMreN1Rt13f",
        "outputId": "48f7df1e-4fff-43b7-fe23-2af8c0d458bf"
      },
      "source": [
        "# Compute and print the range of valid start indices\n",
        "valid_start_ind = [i for i in range(image_length - patch_length + 1)]\n",
        "valid_start_ind"
      ],
      "execution_count": 31,
      "outputs": [
        {
          "output_type": "execute_result",
          "data": {
            "text/plain": [
              "[0, 1, 2, 3]"
            ]
          },
          "metadata": {
            "tags": []
          },
          "execution_count": 31
        }
      ]
    },
    {
      "cell_type": "markdown",
      "metadata": {
        "id": "8xD6BDZZu-IX"
      },
      "source": [
        "**Random selection of start indices**"
      ]
    },
    {
      "cell_type": "code",
      "metadata": {
        "colab": {
          "base_uri": "https://localhost:8080/"
        },
        "id": "mi5R0yeruWFV",
        "outputId": "a6f00b8e-5464-480f-9121-30364e53bfd6"
      },
      "source": [
        "for i in range(10):\n",
        "    start_ind = np.random.randint(image_length - patch_length +1)\n",
        "    print('Randomly selected start index', start_ind)"
      ],
      "execution_count": 34,
      "outputs": [
        {
          "output_type": "stream",
          "text": [
            "Randomly selected start index 3\n",
            "Randomly selected start index 3\n",
            "Randomly selected start index 2\n",
            "Randomly selected start index 0\n",
            "Randomly selected start index 1\n",
            "Randomly selected start index 3\n",
            "Randomly selected start index 2\n",
            "Randomly selected start index 0\n",
            "Randomly selected start index 0\n",
            "Randomly selected start index 3\n"
          ],
          "name": "stdout"
        }
      ]
    },
    {
      "cell_type": "markdown",
      "metadata": {
        "id": "Q5IDJNuDwUdY"
      },
      "source": [
        "**Background Ratio**"
      ]
    },
    {
      "cell_type": "code",
      "metadata": {
        "colab": {
          "base_uri": "https://localhost:8080/"
        },
        "id": "HAxHrdlgwTwn",
        "outputId": "07df6e19-2019-4d99-940f-218b5ebc6c53"
      },
      "source": [
        "#lets say we have 4 different label represents diseases, and now i am going to simulate input data by defining random patch of length 16\n",
        "\n",
        "patch_labels = np.random.randint(0,4,16)\n",
        "print(patch_labels)"
      ],
      "execution_count": 35,
      "outputs": [
        {
          "output_type": "stream",
          "text": [
            "[1 3 2 3 3 2 2 0 1 1 2 1 1 2 0 0]\n"
          ],
          "name": "stdout"
        }
      ]
    },
    {
      "cell_type": "code",
      "metadata": {
        "colab": {
          "base_uri": "https://localhost:8080/"
        },
        "id": "Lf2Yhjavv8A8",
        "outputId": "36f99ab0-0e88-404c-e324-b7ae1b845337"
      },
      "source": [
        "#now im going to get backround ratio by counting 0s (0 means 'background' )\n",
        "bgrd_ratio = np.count_nonzero(patch_labels == 0) / len(patch_labels)\n",
        "\n",
        "print('Background ratio is: ', bgrd_ratio)"
      ],
      "execution_count": 36,
      "outputs": [
        {
          "output_type": "stream",
          "text": [
            "Background ratio is:  0.1875\n"
          ],
          "name": "stdout"
        }
      ]
    },
    {
      "cell_type": "code",
      "metadata": {
        "colab": {
          "base_uri": "https://localhost:8080/"
        },
        "id": "nJYwiXrnxvGu",
        "outputId": "23211027-59ba-4497-a7bd-c420746dc86c"
      },
      "source": [
        "#BUT first, we need to convert our patch labels to one hot format so it can be used to train network\n",
        "patch_labels_one_hot = keras.utils.to_categorical(patch_labels, num_classes= 4)\n",
        "print(patch_labels_one_hot)"
      ],
      "execution_count": 38,
      "outputs": [
        {
          "output_type": "stream",
          "text": [
            "[[0. 1. 0. 0.]\n",
            " [0. 0. 0. 1.]\n",
            " [0. 0. 1. 0.]\n",
            " [0. 0. 0. 1.]\n",
            " [0. 0. 0. 1.]\n",
            " [0. 0. 1. 0.]\n",
            " [0. 0. 1. 0.]\n",
            " [1. 0. 0. 0.]\n",
            " [0. 1. 0. 0.]\n",
            " [0. 1. 0. 0.]\n",
            " [0. 0. 1. 0.]\n",
            " [0. 1. 0. 0.]\n",
            " [0. 1. 0. 0.]\n",
            " [0. 0. 1. 0.]\n",
            " [1. 0. 0. 0.]\n",
            " [1. 0. 0. 0.]]\n"
          ],
          "name": "stdout"
        }
      ]
    },
    {
      "cell_type": "code",
      "metadata": {
        "colab": {
          "base_uri": "https://localhost:8080/",
          "height": 545
        },
        "id": "87-8853qzNV2",
        "outputId": "d168dde2-fa2e-4590-939b-c8244c557627"
      },
      "source": [
        "#lets convert our output to dataframe with labels to see more clearly\n",
        "\n",
        "pd.DataFrame(patch_labels_one_hot, columns=['background', 'edema', 'non-enhancing tumor', 'enhancing tumor'])"
      ],
      "execution_count": 39,
      "outputs": [
        {
          "output_type": "execute_result",
          "data": {
            "text/html": [
              "<div>\n",
              "<style scoped>\n",
              "    .dataframe tbody tr th:only-of-type {\n",
              "        vertical-align: middle;\n",
              "    }\n",
              "\n",
              "    .dataframe tbody tr th {\n",
              "        vertical-align: top;\n",
              "    }\n",
              "\n",
              "    .dataframe thead th {\n",
              "        text-align: right;\n",
              "    }\n",
              "</style>\n",
              "<table border=\"1\" class=\"dataframe\">\n",
              "  <thead>\n",
              "    <tr style=\"text-align: right;\">\n",
              "      <th></th>\n",
              "      <th>background</th>\n",
              "      <th>edema</th>\n",
              "      <th>non-enhancing tumor</th>\n",
              "      <th>enhancing tumor</th>\n",
              "    </tr>\n",
              "  </thead>\n",
              "  <tbody>\n",
              "    <tr>\n",
              "      <th>0</th>\n",
              "      <td>0.0</td>\n",
              "      <td>1.0</td>\n",
              "      <td>0.0</td>\n",
              "      <td>0.0</td>\n",
              "    </tr>\n",
              "    <tr>\n",
              "      <th>1</th>\n",
              "      <td>0.0</td>\n",
              "      <td>0.0</td>\n",
              "      <td>0.0</td>\n",
              "      <td>1.0</td>\n",
              "    </tr>\n",
              "    <tr>\n",
              "      <th>2</th>\n",
              "      <td>0.0</td>\n",
              "      <td>0.0</td>\n",
              "      <td>1.0</td>\n",
              "      <td>0.0</td>\n",
              "    </tr>\n",
              "    <tr>\n",
              "      <th>3</th>\n",
              "      <td>0.0</td>\n",
              "      <td>0.0</td>\n",
              "      <td>0.0</td>\n",
              "      <td>1.0</td>\n",
              "    </tr>\n",
              "    <tr>\n",
              "      <th>4</th>\n",
              "      <td>0.0</td>\n",
              "      <td>0.0</td>\n",
              "      <td>0.0</td>\n",
              "      <td>1.0</td>\n",
              "    </tr>\n",
              "    <tr>\n",
              "      <th>5</th>\n",
              "      <td>0.0</td>\n",
              "      <td>0.0</td>\n",
              "      <td>1.0</td>\n",
              "      <td>0.0</td>\n",
              "    </tr>\n",
              "    <tr>\n",
              "      <th>6</th>\n",
              "      <td>0.0</td>\n",
              "      <td>0.0</td>\n",
              "      <td>1.0</td>\n",
              "      <td>0.0</td>\n",
              "    </tr>\n",
              "    <tr>\n",
              "      <th>7</th>\n",
              "      <td>1.0</td>\n",
              "      <td>0.0</td>\n",
              "      <td>0.0</td>\n",
              "      <td>0.0</td>\n",
              "    </tr>\n",
              "    <tr>\n",
              "      <th>8</th>\n",
              "      <td>0.0</td>\n",
              "      <td>1.0</td>\n",
              "      <td>0.0</td>\n",
              "      <td>0.0</td>\n",
              "    </tr>\n",
              "    <tr>\n",
              "      <th>9</th>\n",
              "      <td>0.0</td>\n",
              "      <td>1.0</td>\n",
              "      <td>0.0</td>\n",
              "      <td>0.0</td>\n",
              "    </tr>\n",
              "    <tr>\n",
              "      <th>10</th>\n",
              "      <td>0.0</td>\n",
              "      <td>0.0</td>\n",
              "      <td>1.0</td>\n",
              "      <td>0.0</td>\n",
              "    </tr>\n",
              "    <tr>\n",
              "      <th>11</th>\n",
              "      <td>0.0</td>\n",
              "      <td>1.0</td>\n",
              "      <td>0.0</td>\n",
              "      <td>0.0</td>\n",
              "    </tr>\n",
              "    <tr>\n",
              "      <th>12</th>\n",
              "      <td>0.0</td>\n",
              "      <td>1.0</td>\n",
              "      <td>0.0</td>\n",
              "      <td>0.0</td>\n",
              "    </tr>\n",
              "    <tr>\n",
              "      <th>13</th>\n",
              "      <td>0.0</td>\n",
              "      <td>0.0</td>\n",
              "      <td>1.0</td>\n",
              "      <td>0.0</td>\n",
              "    </tr>\n",
              "    <tr>\n",
              "      <th>14</th>\n",
              "      <td>1.0</td>\n",
              "      <td>0.0</td>\n",
              "      <td>0.0</td>\n",
              "      <td>0.0</td>\n",
              "    </tr>\n",
              "    <tr>\n",
              "      <th>15</th>\n",
              "      <td>1.0</td>\n",
              "      <td>0.0</td>\n",
              "      <td>0.0</td>\n",
              "      <td>0.0</td>\n",
              "    </tr>\n",
              "  </tbody>\n",
              "</table>\n",
              "</div>"
            ],
            "text/plain": [
              "    background  edema  non-enhancing tumor  enhancing tumor\n",
              "0          0.0    1.0                  0.0              0.0\n",
              "1          0.0    0.0                  0.0              1.0\n",
              "2          0.0    0.0                  1.0              0.0\n",
              "3          0.0    0.0                  0.0              1.0\n",
              "4          0.0    0.0                  0.0              1.0\n",
              "5          0.0    0.0                  1.0              0.0\n",
              "6          0.0    0.0                  1.0              0.0\n",
              "7          1.0    0.0                  0.0              0.0\n",
              "8          0.0    1.0                  0.0              0.0\n",
              "9          0.0    1.0                  0.0              0.0\n",
              "10         0.0    0.0                  1.0              0.0\n",
              "11         0.0    1.0                  0.0              0.0\n",
              "12         0.0    1.0                  0.0              0.0\n",
              "13         0.0    0.0                  1.0              0.0\n",
              "14         1.0    0.0                  0.0              0.0\n",
              "15         1.0    0.0                  0.0              0.0"
            ]
          },
          "metadata": {
            "tags": []
          },
          "execution_count": 39
        }
      ]
    },
    {
      "cell_type": "code",
      "metadata": {
        "colab": {
          "base_uri": "https://localhost:8080/"
        },
        "id": "47DxMS8Oz4jK",
        "outputId": "882c3047-6b53-4157-a860-f18ee0342c3a"
      },
      "source": [
        "print('background column: ', patch_labels_one_hot[:,0])"
      ],
      "execution_count": 40,
      "outputs": [
        {
          "output_type": "stream",
          "text": [
            "background column:  [0. 0. 0. 0. 0. 0. 0. 1. 0. 0. 0. 0. 0. 0. 1. 1.]\n"
          ],
          "name": "stdout"
        }
      ]
    },
    {
      "cell_type": "code",
      "metadata": {
        "colab": {
          "base_uri": "https://localhost:8080/"
        },
        "id": "NDJyxRSn0WkI",
        "outputId": "0ea28704-6523-4d45-ea4e-901399887d12"
      },
      "source": [
        "#now we can compute background ratio by counting number of 1s\n",
        "back_ratio = np.sum(patch_labels_one_hot[:,0]) / len(patch_labels)\n",
        "print('Background ratio is: ', back_ratio)"
      ],
      "execution_count": 41,
      "outputs": [
        {
          "output_type": "stream",
          "text": [
            "Background ratio is:  0.1875\n"
          ],
          "name": "stdout"
        }
      ]
    },
    {
      "cell_type": "code",
      "metadata": {
        "id": "uw3xlCm30_39"
      },
      "source": [
        ""
      ],
      "execution_count": null,
      "outputs": []
    }
  ]
}